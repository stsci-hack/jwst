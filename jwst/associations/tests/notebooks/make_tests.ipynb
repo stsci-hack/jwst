{
 "cells": [
  {
   "cell_type": "markdown",
   "metadata": {},
   "source": [
    "# Abstract"
   ]
  },
  {
   "cell_type": "markdown",
   "metadata": {},
   "source": [
    "Make the test comparison associations"
   ]
  },
  {
   "cell_type": "markdown",
   "metadata": {},
   "source": [
    "# Environment"
   ]
  },
  {
   "cell_type": "code",
   "execution_count": null,
   "metadata": {},
   "outputs": [],
   "source": [
    "# Setup debugging log\n",
    "import logging\n",
    "logger = logging.getLogger('jwst.associations')\n",
    "handler = logging.StreamHandler()\n",
    "logger.addHandler(handler)\n",
    "handler.setLevel(logging.DEBUG)\n",
    "logger.setLevel(logging.DEBUG)"
   ]
  },
  {
   "cell_type": "code",
   "execution_count": null,
   "metadata": {},
   "outputs": [],
   "source": [
    "from functools import partial\n",
    "from glob import glob\n",
    "from multiprocessing import Pool\n",
    "from os import (\n",
    "    listdir, \n",
    "    mkdir,\n",
    "    path\n",
    ")\n",
    "import pdb\n",
    "import re\n",
    "import shutil\n",
    "from tempfile import TemporaryDirectory"
   ]
  },
  {
   "cell_type": "code",
   "execution_count": null,
   "metadata": {},
   "outputs": [],
   "source": [
    "import numpy as np"
   ]
  },
  {
   "cell_type": "code",
   "execution_count": null,
   "metadata": {},
   "outputs": [],
   "source": [
    "from jwst.associations import (\n",
    "    AssociationRegistry,\n",
    "    generate\n",
    ")\n",
    "from jwst.associations.main import Main"
   ]
  },
  {
   "cell_type": "code",
   "execution_count": null,
   "metadata": {},
   "outputs": [],
   "source": [
    "from jwst.associations.tests.helpers import (\n",
    "    combine_pools,\n",
    "    registry_level3_only,\n",
    "    registry_level2_only,\n",
    "    t_path,\n",
    ")"
   ]
  },
  {
   "cell_type": "code",
   "execution_count": null,
   "metadata": {},
   "outputs": [],
   "source": [
    "from jwst.associations.tests.test_standards import (\n",
    "    DEF_ARGS,\n",
    "    LV2_ONLY_ARGS,\n",
    "    LV3_ONLY_ARGS,\n",
    "    MakePars,\n",
    "    standards\n",
    ")"
   ]
  },
  {
   "cell_type": "code",
   "execution_count": null,
   "metadata": {},
   "outputs": [],
   "source": [
    "# Folders\n",
    "DATA_DIR = path.join(\n",
    "    '..', 'data'\n",
    ")\n",
    "NEW_ASN_DIR = path.join(\n",
    "    DATA_DIR,\n",
    "    'new_asn_standards'\n",
    ")\n",
    "SDP_DIR = path.join(\n",
    "    '..', 'data', 'sdp'\n",
    ")\n",
    "SDP_POOLS = path.join(\n",
    "    SDP_DIR, 'pools'\n",
    ")\n",
    "SDP_NEW_ASN_DIR = path.join(\n",
    "    SDP_DIR, 'new_asns'\n",
    ")"
   ]
  },
  {
   "cell_type": "markdown",
   "metadata": {},
   "source": [
    "# Library"
   ]
  },
  {
   "cell_type": "code",
   "execution_count": null,
   "metadata": {},
   "outputs": [],
   "source": [
    "def make_standards(pool_root, \n",
    "                   main_args=None,\n",
    "                   source=DATA_DIR,\n",
    "                   outdir=NEW_ASN_DIR\n",
    "                  ):\n",
    "    \"\"\"Make the association standards for a pool\"\"\"\n",
    "    pool_path = path.join(\n",
    "        source,\n",
    "        pool_root + '.csv'\n",
    "    )\n",
    "    pool = combine_pools(pool_path)\n",
    "    if main_args is None:\n",
    "        main_args = []\n",
    "    with TemporaryDirectory() as tmp_path:\n",
    "        args = main_args + ['-v', '-p', tmp_path]\n",
    "        results = Main(\n",
    "            args,\n",
    "            pool=pool\n",
    "        )\n",
    "        asn_paths = listdir(tmp_path)\n",
    "        for asn_path in asn_paths:\n",
    "            matches = re.match('[^-]+(-.+)', asn_path)\n",
    "            asn_tail = matches.group(1)\n",
    "            from_path = path.join(tmp_path, asn_path)\n",
    "            to_path = path.join(outdir, pool_root + asn_tail)\n",
    "            shutil.move(from_path, to_path)\n",
    "        pool.write(path.join(outdir, pool_root + '_std.csv'))"
   ]
  },
  {
   "cell_type": "markdown",
   "metadata": {},
   "source": [
    "# Main"
   ]
  },
  {
   "cell_type": "markdown",
   "metadata": {},
   "source": [
    "## Clear result folder"
   ]
  },
  {
   "cell_type": "code",
   "execution_count": null,
   "metadata": {},
   "outputs": [],
   "source": [
    "try:\n",
    "    shutil.rmtree(NEW_ASN_DIR)\n",
    "except FileNotFoundError:\n",
    "    pass\n",
    "\n",
    "mkdir(NEW_ASN_DIR)"
   ]
  },
  {
   "cell_type": "code",
   "execution_count": null,
   "metadata": {},
   "outputs": [],
   "source": [
    "try:\n",
    "    shutil.rmtree(SDP_NEW_ASN_DIR)\n",
    "except FileNotFoundError:\n",
    "    pass\n",
    "\n",
    "mkdir(SDP_NEW_ASN_DIR)"
   ]
  },
  {
   "cell_type": "markdown",
   "metadata": {},
   "source": [
    "## Make the standards"
   ]
  },
  {
   "cell_type": "code",
   "execution_count": null,
   "metadata": {},
   "outputs": [],
   "source": [
    "make_standards_args = [\n",
    "    (standard.pool_root, standard.main_args)\n",
    "    for standard in standards\n",
    "]"
   ]
  },
  {
   "cell_type": "code",
   "execution_count": null,
   "metadata": {},
   "outputs": [],
   "source": [
    "def standards_map_func(t):\n",
    "    make_standards(t[0], t[1], source=DATA_DIR, outdir=NEW_ASN_DIR)"
   ]
  },
  {
   "cell_type": "code",
   "execution_count": null,
   "metadata": {},
   "outputs": [],
   "source": [
    "with Pool(6) as mp:\n",
    "    mp.map(standards_map_func, make_standards_args)"
   ]
  },
  {
   "cell_type": "markdown",
   "metadata": {},
   "source": [
    "### Specific cases"
   ]
  },
  {
   "cell_type": "code",
   "execution_count": null,
   "metadata": {},
   "outputs": [],
   "source": [
    "#make_standards_args[11]"
   ]
  },
  {
   "cell_type": "code",
   "execution_count": null,
   "metadata": {},
   "outputs": [],
   "source": [
    "standards_map_func(make_standards_args[11])"
   ]
  },
  {
   "cell_type": "code",
   "execution_count": null,
   "metadata": {},
   "outputs": [],
   "source": [
    "#pool_006 = combine_pools('../data/pool_006_spec_nirspec.csv')"
   ]
  },
  {
   "cell_type": "code",
   "execution_count": null,
   "metadata": {},
   "outputs": [],
   "source": [
    "#pool_006.show_in_browser(jsviewer=True)"
   ]
  },
  {
   "cell_type": "markdown",
   "metadata": {},
   "source": [
    "## Make the SPD-based associations"
   ]
  },
  {
   "cell_type": "code",
   "execution_count": null,
   "metadata": {},
   "outputs": [],
   "source": [
    "pools = glob(path.join(SDP_POOLS, '*.csv'))"
   ]
  },
  {
   "cell_type": "code",
   "execution_count": null,
   "metadata": {},
   "outputs": [],
   "source": [
    "make_spd_args = [\n",
    "    (path.splitext(path.split(pool)[1])[0], path.split(pool)[0])\n",
    "    for pool in pools\n",
    "]"
   ]
  },
  {
   "cell_type": "code",
   "execution_count": null,
   "metadata": {},
   "outputs": [],
   "source": [
    "def spd_map_func(t):\n",
    "    make_standards(t[0], source=t[1], outdir=SDP_NEW_ASN_DIR)"
   ]
  },
  {
   "cell_type": "code",
   "execution_count": null,
   "metadata": {},
   "outputs": [],
   "source": [
    "with Pool(6) as mp:\n",
    "    mp.map(spd_map_func, make_spd_args)"
   ]
  },
  {
   "cell_type": "markdown",
   "metadata": {},
   "source": [
    "### Specific cases"
   ]
  },
  {
   "cell_type": "code",
   "execution_count": null,
   "metadata": {},
   "outputs": [],
   "source": [
    "# make_standard_args"
   ]
  },
  {
   "cell_type": "code",
   "execution_count": null,
   "metadata": {},
   "outputs": [],
   "source": [
    "# make_standard_args[-2]"
   ]
  },
  {
   "cell_type": "code",
   "execution_count": null,
   "metadata": {
    "scrolled": true
   },
   "outputs": [],
   "source": [
    "# map_func(make_standard_args[-2])"
   ]
  },
  {
   "cell_type": "code",
   "execution_count": null,
   "metadata": {
    "scrolled": false
   },
   "outputs": [],
   "source": [
    "# %debug"
   ]
  }
 ],
 "metadata": {
  "anaconda-cloud": {},
  "kernelspec": {
   "display_name": "Python 3",
   "language": "python",
   "name": "python3"
  },
  "language_info": {
   "codemirror_mode": {
    "name": "ipython",
    "version": 3
   },
   "file_extension": ".py",
   "mimetype": "text/x-python",
   "name": "python",
   "nbconvert_exporter": "python",
   "pygments_lexer": "ipython3",
   "version": "3.6.5"
  }
 },
 "nbformat": 4,
 "nbformat_minor": 2
}
